{
 "cells": [
  {
   "cell_type": "markdown",
   "id": "109c9c29-6f6a-4aa1-a3d4-6553e9924e54",
   "metadata": {},
   "source": [
    "***\n",
    "# <center>***What is Time Series Forecasting?***\n",
    "***"
   ]
  },
  {
   "cell_type": "markdown",
   "id": "e56f45e6-c49d-4456-9a0c-095b8c5ef883",
   "metadata": {},
   "source": [
    "**Time series forecasting** is an important area of machine learning that is often neglected. It is important because there are so many prediction problems that involve a time component. These problems are neglected because it is this time component that makes time series problems more difficult to handle. \n",
    "\n",
    "In this notebook, I learned:\n",
    " - **Standard defnitions of time series**, **time serie**s analysis**, and **time series forecasting**.\n",
    " - The **important components** to consider in **time series** data.\n",
    " - Examples of **time series** to make your understanding concrete."
   ]
  },
  {
   "cell_type": "markdown",
   "id": "3a0c9e33-fe0f-4368-8f39-5238b80d9735",
   "metadata": {},
   "source": [
    "***\n",
    "## ***Time Series***\n",
    "***\n",
    "\n",
    "Time does play a role in normal machine learning datasets. Predictions are made for new data when the actual outcome may not be known until some future date. The future is being predicted, but all prior observations are treated equally. Perhaps with some very minor temporal dynamics to overcome the idea of concept drift such as only using the last year of observations rather than all data available. \n",
    "\n",
    "A **time series** dataset is different. Time series adds an explicit order dependence between observations: a time dimension. This additional dimension is both a constraint and a structurethat provides a source of additional information. A **time series** is a sequence of observations taken sequentially in time."
   ]
  },
  {
   "cell_type": "markdown",
   "id": "957a164d-24bf-478b-9915-2e7871662039",
   "metadata": {},
   "source": [
    "***\n",
    "## ***Time Series Nomenclature***\n",
    "***\n",
    "\n",
    "Before we move on, it is important to quickly establish the standard terms used when describing time series data. The current time is defined as ***t***, an observation at the current time is defiined as ***obs(t)***.\n",
    "\n",
    "We are often interested in the observations made at prior times, called **lag times** or **lags**. Times in the past are negative relative to the current time. For example the previous time is **t-1** and the time before that is **t-2**. The observations at these times are **obs(t-1)** and **obs(t-2)** respectively. Times in the future are what we are interested in forecasting and are positive  relative to the current time. For example the next time is **t+1** and the time after that is **t+2**. The observations at these times are **obs(t+1)** and **obs(t+2)** respectively.\n",
    "\n",
    "For simplicity, we often drop the **obs(t)** notation and use **t+1** instead and assume we are talking about observations at times rather than the time indexes themselves. Additionally, we can refer to an observation at a **lag** by shorthand such as a **lag of 10** or **lag=10** which would be the same as **t-10**. To summarize:\n",
    " - **`t-n:`** A prior or lag time (e.g. t-1 for the previous time).\n",
    " - **`t:`** A current time and point of reference.\n",
    " - **`t+n:`** A future or forecast time (e.g. t+1 for the next time)."
   ]
  },
  {
   "cell_type": "markdown",
   "id": "d9decd29-600e-4363-9a6a-05286854a404",
   "metadata": {},
   "source": [
    "***\n",
    "## ***Describing and Predicting***\n",
    "***\n",
    "\n",
    "We have different goals depending on whether we are interested in **understanding a dataset** or **making predictions**. Understanding a dataset, called time **series analysis**, can help to make better predictions, but is not required and can result in a large technical investment in time and expertise not directly aligned with the desired outcome, which is forecasting the future.\n",
    "\n",
    "In `descriptive modeling`, or time series analysis, a time series is modeled to determine its components in terms of seasonal patterns, trends, relation to external factors. In contrast, time series forecasting uses the information in a time series (perhaps with additional information) to forecast future values of that series."
   ]
  },
  {
   "cell_type": "markdown",
   "id": "b04cd94d-84ee-4783-8202-92fd0c6d74da",
   "metadata": {},
   "source": [
    "***\n",
    "## ***Time Series Analysis***\n",
    "***\n",
    "\n",
    "When using `classical statistics`, the primary concern is the analysis of time series. Time series analysis involves developing models that best capture or describe an observed time series in order to understand the underlying causes. This field of study seeks the why behind a time series dataset. This often involves making assumptions about the form of the data and decomposing the time series into constitution components. The quality of a descriptive model is determined by how well it describes all available data and the interpretation it provides to better inform the problem domain. **The primary objective of time series analysis is to develop mathematical models that provide plausible descriptions from sample data**"
   ]
  },
  {
   "cell_type": "markdown",
   "id": "311c4ea5-6409-4d02-94bc-fbc688e29a68",
   "metadata": {},
   "source": [
    "***\n",
    "## ***Time Series Forecasting***\n",
    "***\n",
    "\n",
    "Making predictions about the future is called `extrapolation` in the `classical statistical` handling oftime series data. More modern fields focus on the topic and refer to it as time series forecasting.Forecasting involves taking models fit on historical data and using them to predict futureobservations. Descriptive models can borrow from the future (i.e. to smooth or remove noise), they only seek to best describe the data. An important distinction in forecasting is that the future is completely unavailable and must only be estimated from what has already happened. The skill of a time series forecasting model is determined by its performance at predicting\n",
    "the future. This is often at the expense of being able to explain why a speci c prediction was made, condence intervals and even better understanding the underlying causes behind the problem"
   ]
  },
  {
   "cell_type": "markdown",
   "id": "f07722dd-0ed1-41af-89ae-e864950c77ae",
   "metadata": {},
   "source": [
    "***\n",
    "## ***Components of Time Series***\n",
    "\n",
    "Time series analysis provides a body of techniques to better understand a dataset. Perhaps the most useful of these is the decomposition of a time series into 4 constituent parts:\n",
    " - ***`Level`***: The baseline value for the series if it were a straight line.\n",
    " - ***`Trend`***: The optional and often linear increasing or decreasing behavior of the series over time.\n",
    " - ***`Seasonality`***: The optional repeating patterns or cycles of behavior over time.\n",
    " - ***`Noise`***: The optional variability in the observations that cannot be explained by the model.\n",
    "\n",
    "All time series have a level, most have noise, and the trend and seasonality are optional.  The main features of many time series are trends and seasonal variations another important feature of most time series is that observations close together in time tend to be correlated (serially dependent).\n",
    "\n",
    "These constituent components can be thought to combine in some way to provide the observed time series. Assumptions can be made about these components both in behavior and in how they are combined, which allows them to be modeled using traditional statistical methods. These components may also be the most efective way to make predictions about future values, but not always. In cases where these classical methods do not result in efective performance, these components may still be useful concepts, and even input to alternate methods.\n"
   ]
  },
  {
   "cell_type": "markdown",
   "id": "7e846349-d77b-4ede-8bfa-80bc7fc99c17",
   "metadata": {},
   "source": [
    "***\n",
    "## ***Examples of Time Series Forecasting***\n",
    "***\n",
    "There is almost an endless supply of time series forecasting problems. Below are 10 examples from a range of industries to make the notions of time series analysis and forecasting more concrete.\n",
    " - Forecasting the corn yield in tons by state each year.\n",
    " - Forecasting whether an EEG trace in seconds indicates a patient is having a seizure or not.\n",
    " - Forecasting the closing price of a stock each day.\n",
    " - Forecasting the birth rate at all hospitals in a city each year.\n",
    " - Forecasting product sales in units sold each day for a store.\n",
    " - Forecasting the number of passengers through a train station each day.\n",
    " - Forecasting unemployment for a state each quarter.\n",
    " - Forecasting utilization demand on a server each hour.\n",
    " - Forecasting the size of the rabbit population in a state each breeding season.\n",
    " - Forecasting the average price of gasoline in a city each day."
   ]
  },
  {
   "cell_type": "code",
   "execution_count": null,
   "id": "fbdb19f9-c6e9-46c4-b845-bc4f076f40c4",
   "metadata": {},
   "outputs": [],
   "source": []
  }
 ],
 "metadata": {
  "kernelspec": {
   "display_name": "Python 3 (ipykernel)",
   "language": "python",
   "name": "python3"
  },
  "language_info": {
   "codemirror_mode": {
    "name": "ipython",
    "version": 3
   },
   "file_extension": ".py",
   "mimetype": "text/x-python",
   "name": "python",
   "nbconvert_exporter": "python",
   "pygments_lexer": "ipython3",
   "version": "3.11.7"
  },
  "widgets": {
   "application/vnd.jupyter.widget-state+json": {
    "state": {},
    "version_major": 2,
    "version_minor": 0
   }
  }
 },
 "nbformat": 4,
 "nbformat_minor": 5
}
